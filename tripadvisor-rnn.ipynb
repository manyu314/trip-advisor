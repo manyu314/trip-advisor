{
 "cells": [
  {
   "cell_type": "code",
   "execution_count": 1,
   "metadata": {
    "_cell_guid": "b1076dfc-b9ad-4769-8c92-a6c4dae69d19",
    "_uuid": "8f2839f25d086af736a60e9eeb907d3b93b6e0e5",
    "execution": {
     "iopub.execute_input": "2021-07-15T14:05:58.146734Z",
     "iopub.status.busy": "2021-07-15T14:05:58.146300Z",
     "iopub.status.idle": "2021-07-15T14:05:58.156070Z",
     "shell.execute_reply": "2021-07-15T14:05:58.155051Z",
     "shell.execute_reply.started": "2021-07-15T14:05:58.146701Z"
    }
   },
   "outputs": [],
   "source": [
    "import numpy as np\n",
    "import pandas as pd \n",
    "\n",
    "# visualization\n",
    "import seaborn as sns\n",
    "import matplotlib.pyplot as plt"
   ]
  },
  {
   "cell_type": "code",
   "execution_count": 2,
   "metadata": {
    "execution": {
     "iopub.execute_input": "2021-07-15T14:05:58.157777Z",
     "iopub.status.busy": "2021-07-15T14:05:58.157380Z",
     "iopub.status.idle": "2021-07-15T14:05:58.326145Z",
     "shell.execute_reply": "2021-07-15T14:05:58.324761Z",
     "shell.execute_reply.started": "2021-07-15T14:05:58.157739Z"
    }
   },
   "outputs": [],
   "source": [
    "# getting the data\n",
    "trip = pd.read_csv('tripadvisor_hotel_reviews.csv')"
   ]
  },
  {
   "cell_type": "code",
   "execution_count": 3,
   "metadata": {
    "execution": {
     "iopub.execute_input": "2021-07-15T14:05:58.328670Z",
     "iopub.status.busy": "2021-07-15T14:05:58.328288Z",
     "iopub.status.idle": "2021-07-15T14:05:58.340574Z",
     "shell.execute_reply": "2021-07-15T14:05:58.339295Z",
     "shell.execute_reply.started": "2021-07-15T14:05:58.328635Z"
    }
   },
   "outputs": [
    {
     "data": {
      "text/html": [
       "<div>\n",
       "<style scoped>\n",
       "    .dataframe tbody tr th:only-of-type {\n",
       "        vertical-align: middle;\n",
       "    }\n",
       "\n",
       "    .dataframe tbody tr th {\n",
       "        vertical-align: top;\n",
       "    }\n",
       "\n",
       "    .dataframe thead th {\n",
       "        text-align: right;\n",
       "    }\n",
       "</style>\n",
       "<table border=\"1\" class=\"dataframe\">\n",
       "  <thead>\n",
       "    <tr style=\"text-align: right;\">\n",
       "      <th></th>\n",
       "      <th>Review</th>\n",
       "      <th>Rating</th>\n",
       "    </tr>\n",
       "  </thead>\n",
       "  <tbody>\n",
       "    <tr>\n",
       "      <th>0</th>\n",
       "      <td>nice hotel expensive parking got good deal sta...</td>\n",
       "      <td>4</td>\n",
       "    </tr>\n",
       "    <tr>\n",
       "      <th>1</th>\n",
       "      <td>ok nothing special charge diamond member hilto...</td>\n",
       "      <td>2</td>\n",
       "    </tr>\n",
       "    <tr>\n",
       "      <th>2</th>\n",
       "      <td>nice rooms not 4* experience hotel monaco seat...</td>\n",
       "      <td>3</td>\n",
       "    </tr>\n",
       "    <tr>\n",
       "      <th>3</th>\n",
       "      <td>unique, great stay, wonderful time hotel monac...</td>\n",
       "      <td>5</td>\n",
       "    </tr>\n",
       "    <tr>\n",
       "      <th>4</th>\n",
       "      <td>great stay great stay, went seahawk game aweso...</td>\n",
       "      <td>5</td>\n",
       "    </tr>\n",
       "  </tbody>\n",
       "</table>\n",
       "</div>"
      ],
      "text/plain": [
       "                                              Review  Rating\n",
       "0  nice hotel expensive parking got good deal sta...       4\n",
       "1  ok nothing special charge diamond member hilto...       2\n",
       "2  nice rooms not 4* experience hotel monaco seat...       3\n",
       "3  unique, great stay, wonderful time hotel monac...       5\n",
       "4  great stay great stay, went seahawk game aweso...       5"
      ]
     },
     "execution_count": 3,
     "metadata": {},
     "output_type": "execute_result"
    }
   ],
   "source": [
    "trip.head()"
   ]
  },
  {
   "cell_type": "code",
   "execution_count": 4,
   "metadata": {
    "execution": {
     "iopub.execute_input": "2021-07-15T14:05:58.344521Z",
     "iopub.status.busy": "2021-07-15T14:05:58.343997Z",
     "iopub.status.idle": "2021-07-15T14:05:58.366435Z",
     "shell.execute_reply": "2021-07-15T14:05:58.365273Z",
     "shell.execute_reply.started": "2021-07-15T14:05:58.344478Z"
    }
   },
   "outputs": [
    {
     "data": {
      "text/plain": [
       "Review    0\n",
       "Rating    0\n",
       "dtype: int64"
      ]
     },
     "execution_count": 4,
     "metadata": {},
     "output_type": "execute_result"
    }
   ],
   "source": [
    "# Let's see if there is any null values in any column\n",
    "trip.isnull().sum()"
   ]
  },
  {
   "cell_type": "markdown",
   "metadata": {},
   "source": [
    "**No Null Values**"
   ]
  },
  {
   "cell_type": "code",
   "execution_count": 5,
   "metadata": {
    "execution": {
     "iopub.execute_input": "2021-07-15T14:05:58.368278Z",
     "iopub.status.busy": "2021-07-15T14:05:58.367974Z",
     "iopub.status.idle": "2021-07-15T14:05:58.420488Z",
     "shell.execute_reply": "2021-07-15T14:05:58.419251Z",
     "shell.execute_reply.started": "2021-07-15T14:05:58.368250Z"
    }
   },
   "outputs": [
    {
     "name": "stdout",
     "output_type": "stream",
     "text": [
      "There are total 0 empty strings as review.\n"
     ]
    }
   ],
   "source": [
    "# Let's see if there is any empty string present in the review.If yes,we will go ahead and remove them\n",
    "empty = []\n",
    "\n",
    "for i,review,rating in trip.itertuples():\n",
    "    if type(review) == str:\n",
    "        if review.isspace():\n",
    "            empty.append(i) # will take the index of that review\n",
    "            \n",
    "            \n",
    "print(f\"There are total {len(empty)} empty strings as review.\")"
   ]
  },
  {
   "cell_type": "markdown",
   "metadata": {},
   "source": [
    "**Great! There are no empty string present as rating**"
   ]
  },
  {
   "cell_type": "code",
   "execution_count": 6,
   "metadata": {
    "execution": {
     "iopub.execute_input": "2021-07-15T14:05:58.513545Z",
     "iopub.status.busy": "2021-07-15T14:05:58.513177Z",
     "iopub.status.idle": "2021-07-15T14:05:58.522750Z",
     "shell.execute_reply": "2021-07-15T14:05:58.521873Z",
     "shell.execute_reply.started": "2021-07-15T14:05:58.513510Z"
    }
   },
   "outputs": [
    {
     "data": {
      "text/plain": [
       "5    9054\n",
       "4    6039\n",
       "3    2184\n",
       "2    1793\n",
       "1    1421\n",
       "Name: Rating, dtype: int64"
      ]
     },
     "execution_count": 6,
     "metadata": {},
     "output_type": "execute_result"
    }
   ],
   "source": [
    "# Let's check the different rating present\n",
    "trip['Rating'].value_counts()"
   ]
  },
  {
   "cell_type": "code",
   "execution_count": 7,
   "metadata": {
    "execution": {
     "iopub.execute_input": "2021-07-15T14:05:58.524696Z",
     "iopub.status.busy": "2021-07-15T14:05:58.524125Z",
     "iopub.status.idle": "2021-07-15T14:05:58.773156Z",
     "shell.execute_reply": "2021-07-15T14:05:58.772358Z",
     "shell.execute_reply.started": "2021-07-15T14:05:58.524657Z"
    }
   },
   "outputs": [
    {
     "data": {
      "text/plain": [
       "Text(0, 0.5, 'Rating')"
      ]
     },
     "execution_count": 7,
     "metadata": {},
     "output_type": "execute_result"
    },
    {
     "data": {
      "image/png": "[encoded data removed]",
      "text/plain": [
       "<Figure size 864x576 with 1 Axes>"
      ]
     },
     "metadata": {},
     "output_type": "display_data"
    }
   ],
   "source": [
    "plt.figure(figsize=(12,8))\n",
    "trip.groupby('Rating').size().plot(kind='pie',y='Rating',legend=True)\n",
    "plt.ylabel('Rating')"
   ]
  },
  {
   "cell_type": "markdown",
   "metadata": {
    "execution": {
     "iopub.execute_input": "2021-07-14T21:08:17.096972Z",
     "iopub.status.busy": "2021-07-14T21:08:17.096628Z",
     "iopub.status.idle": "2021-07-14T21:08:17.100821Z",
     "shell.execute_reply": "2021-07-14T21:08:17.099676Z",
     "shell.execute_reply.started": "2021-07-14T21:08:17.096935Z"
    }
   },
   "source": [
    "The number of reviews with rating 5 is 9054 and combined reviews with 1 and 2 rating is (1793+1421) = 3214\n",
    "If we create and train our model with this data it will be very week in predicting the correct rating.\n",
    "It will get enough reviews with 5 rating to train on but will not get sufficient reviews to train for 1st or 2nd rating."
   ]
  },
  {
   "cell_type": "markdown",
   "metadata": {},
   "source": [
    "One workaround can be to modify the Rating column.We can take the reviews with rating 5 and call them Positive reviews and can combine the 1st rating and 2nd rating reviews and call them Negative reviews.We will ignore the reviews with 4th or 3rd rating."
   ]
  },
  {
   "cell_type": "code",
   "execution_count": 8,
   "metadata": {
    "execution": {
     "iopub.execute_input": "2021-07-15T14:05:58.775416Z",
     "iopub.status.busy": "2021-07-15T14:05:58.774918Z",
     "iopub.status.idle": "2021-07-15T14:05:58.792357Z",
     "shell.execute_reply": "2021-07-15T14:05:58.791242Z",
     "shell.execute_reply.started": "2021-07-15T14:05:58.775348Z"
    }
   },
   "outputs": [],
   "source": [
    "# Let's create a new data frame\n",
    " \n",
    "df = trip[(trip['Rating']==5)|(trip['Rating']==2)|(trip['Rating']==1)][['Review','Rating']]\n",
    "\n",
    "# Lets modify the Rating column\n",
    "df['Rating'] = df['Rating'].apply(lambda rating: 'Pos' if rating==5 else 'Neg')"
   ]
  },
  {
   "cell_type": "code",
   "execution_count": 9,
   "metadata": {
    "execution": {
     "iopub.execute_input": "2021-07-15T14:05:58.794990Z",
     "iopub.status.busy": "2021-07-15T14:05:58.794514Z",
     "iopub.status.idle": "2021-07-15T14:05:58.805869Z",
     "shell.execute_reply": "2021-07-15T14:05:58.804825Z",
     "shell.execute_reply.started": "2021-07-15T14:05:58.794953Z"
    }
   },
   "outputs": [
    {
     "data": {
      "text/html": [
       "<div>\n",
       "<style scoped>\n",
       "    .dataframe tbody tr th:only-of-type {\n",
       "        vertical-align: middle;\n",
       "    }\n",
       "\n",
       "    .dataframe tbody tr th {\n",
       "        vertical-align: top;\n",
       "    }\n",
       "\n",
       "    .dataframe thead th {\n",
       "        text-align: right;\n",
       "    }\n",
       "</style>\n",
       "<table border=\"1\" class=\"dataframe\">\n",
       "  <thead>\n",
       "    <tr style=\"text-align: right;\">\n",
       "      <th></th>\n",
       "      <th>Review</th>\n",
       "      <th>Rating</th>\n",
       "    </tr>\n",
       "  </thead>\n",
       "  <tbody>\n",
       "    <tr>\n",
       "      <th>1</th>\n",
       "      <td>ok nothing special charge diamond member hilto...</td>\n",
       "      <td>Neg</td>\n",
       "    </tr>\n",
       "    <tr>\n",
       "      <th>3</th>\n",
       "      <td>unique, great stay, wonderful time hotel monac...</td>\n",
       "      <td>Pos</td>\n",
       "    </tr>\n",
       "    <tr>\n",
       "      <th>4</th>\n",
       "      <td>great stay great stay, went seahawk game aweso...</td>\n",
       "      <td>Pos</td>\n",
       "    </tr>\n",
       "    <tr>\n",
       "      <th>5</th>\n",
       "      <td>love monaco staff husband stayed hotel crazy w...</td>\n",
       "      <td>Pos</td>\n",
       "    </tr>\n",
       "    <tr>\n",
       "      <th>6</th>\n",
       "      <td>cozy stay rainy city, husband spent 7 nights m...</td>\n",
       "      <td>Pos</td>\n",
       "    </tr>\n",
       "  </tbody>\n",
       "</table>\n",
       "</div>"
      ],
      "text/plain": [
       "                                              Review Rating\n",
       "1  ok nothing special charge diamond member hilto...    Neg\n",
       "3  unique, great stay, wonderful time hotel monac...    Pos\n",
       "4  great stay great stay, went seahawk game aweso...    Pos\n",
       "5  love monaco staff husband stayed hotel crazy w...    Pos\n",
       "6  cozy stay rainy city, husband spent 7 nights m...    Pos"
      ]
     },
     "execution_count": 9,
     "metadata": {},
     "output_type": "execute_result"
    }
   ],
   "source": [
    "df.head()"
   ]
  },
  {
   "cell_type": "markdown",
   "metadata": {},
   "source": [
    "**We will use the new dataframe df to create and train our model.**"
   ]
  },
  {
   "cell_type": "code",
   "execution_count": 11,
   "metadata": {
    "execution": {
     "iopub.execute_input": "2021-07-15T14:05:58.822158Z",
     "iopub.status.busy": "2021-07-15T14:05:58.821758Z",
     "iopub.status.idle": "2021-07-15T14:06:06.416347Z",
     "shell.execute_reply": "2021-07-15T14:06:06.415224Z",
     "shell.execute_reply.started": "2021-07-15T14:05:58.822127Z"
    }
   },
   "outputs": [],
   "source": [
    "# Let's assign the Id to all the unique words present in Tokens columns\n",
    "from tensorflow.keras.preprocessing.text import Tokenizer\n",
    "\n",
    "tokenizer = Tokenizer()\n",
    "\n",
    "tokenizer.fit_on_texts(df['Review'])"
   ]
  },
  {
   "cell_type": "code",
   "execution_count": 12,
   "metadata": {
    "execution": {
     "iopub.execute_input": "2021-07-15T14:06:06.418462Z",
     "iopub.status.busy": "2021-07-15T14:06:06.418009Z",
     "iopub.status.idle": "2021-07-15T14:06:06.424605Z",
     "shell.execute_reply": "2021-07-15T14:06:06.423336Z",
     "shell.execute_reply.started": "2021-07-15T14:06:06.418416Z"
    }
   },
   "outputs": [
    {
     "name": "stdout",
     "output_type": "stream",
     "text": [
      "There are total 40352 unique words present\n"
     ]
    }
   ],
   "source": [
    "# Let's see total number of unique words present in all the reveiws combined\n",
    "vocab_size = len(tokenizer.index_word)\n",
    "\n",
    "# tokeninzer.index_word is a dictonary which can be user to view all the unique words and there ID's.\n",
    "\n",
    "print(f'There are total {vocab_size} unique words present')"
   ]
  },
  {
   "cell_type": "code",
   "execution_count": 13,
   "metadata": {
    "execution": {
     "iopub.execute_input": "2021-07-15T14:06:06.426774Z",
     "iopub.status.busy": "2021-07-15T14:06:06.426433Z",
     "iopub.status.idle": "2021-07-15T14:06:07.401546Z",
     "shell.execute_reply": "2021-07-15T14:06:07.400422Z",
     "shell.execute_reply.started": "2021-07-15T14:06:06.426743Z"
    }
   },
   "outputs": [],
   "source": [
    "# Now let's replace each word in review with there respective token id\n",
    "sequences = tokenizer.texts_to_sequences(df['Review'])"
   ]
  },
  {
   "cell_type": "code",
   "execution_count": 14,
   "metadata": {
    "execution": {
     "iopub.execute_input": "2021-07-15T15:08:58.695825Z",
     "iopub.status.busy": "2021-07-15T15:08:58.695436Z",
     "iopub.status.idle": "2021-07-15T15:08:58.739722Z",
     "shell.execute_reply": "2021-07-15T15:08:58.738138Z",
     "shell.execute_reply.started": "2021-07-15T15:08:58.695791Z"
    }
   },
   "outputs": [
    {
     "data": {
      "text/plain": [
       "{1: 'hotel',\n",
       " 2: 'room',\n",
       " 3: 'not',\n",
       " 4: 'great',\n",
       " 5: \"n't\",\n",
       " 6: 'staff',\n",
       " 7: 'stay',\n",
       " 8: 'good',\n",
       " 9: 'did',\n",
       " 10: 'just',\n",
       " 11: 'rooms',\n",
       " 12: 'no',\n",
       " 13: 'service',\n",
       " 14: 'stayed',\n",
       " 15: 'nice',\n",
       " 16: 'location',\n",
       " 17: 'time',\n",
       " 18: 'day',\n",
       " 19: 'night',\n",
       " 20: 'breakfast',\n",
       " 21: 'food',\n",
       " 22: 'beach',\n",
       " 23: 'clean',\n",
       " 24: 'like',\n",
       " 25: 'place',\n",
       " 26: 'resort',\n",
       " 27: 'really',\n",
       " 28: 'the',\n",
       " 29: 'pool',\n",
       " 30: 'excellent',\n",
       " 31: 'friendly',\n",
       " 32: '2',\n",
       " 33: 'people',\n",
       " 34: 'best',\n",
       " 35: 'got',\n",
       " 36: 'helpful',\n",
       " 37: 'walk',\n",
       " 38: 'small',\n",
       " 39: 'area',\n",
       " 40: '5',\n",
       " 41: 'little',\n",
       " 42: 'trip',\n",
       " 43: '3',\n",
       " 44: 'bar',\n",
       " 45: 'recommend',\n",
       " 46: 'bed',\n",
       " 47: 'wonderful',\n",
       " 48: 'restaurant',\n",
       " 49: 'beautiful',\n",
       " 50: 'bathroom',\n",
       " 51: 'went',\n",
       " 52: 'restaurants',\n",
       " 53: 'desk',\n",
       " 54: 'water',\n",
       " 55: 'view',\n",
       " 56: 'floor',\n",
       " 57: 'hotels',\n",
       " 58: 'way',\n",
       " 59: 'check',\n",
       " 60: 'nights',\n",
       " 61: 'comfortable',\n",
       " 62: 'make',\n",
       " 63: 'away',\n",
       " 64: 'booked',\n",
       " 65: 'city',\n",
       " 66: 'better',\n",
       " 67: 'free',\n",
       " 68: 'right',\n",
       " 69: '4',\n",
       " 70: 'want',\n",
       " 71: 'say',\n",
       " 72: 'reviews',\n",
       " 73: 'loved',\n",
       " 74: 'new',\n",
       " 75: 'experience',\n",
       " 76: 'fantastic',\n",
       " 77: 'ç',\n",
       " 78: 'days',\n",
       " 79: 'large',\n",
       " 80: 'minutes',\n",
       " 81: 'perfect',\n",
       " 82: 'street',\n",
       " 83: 'definitely',\n",
       " 84: 'morning',\n",
       " 85: 'going',\n",
       " 86: 'price',\n",
       " 87: 'buffet',\n",
       " 88: 'lovely',\n",
       " 89: 'lobby',\n",
       " 90: '10',\n",
       " 91: 'arrived',\n",
       " 92: 'told',\n",
       " 93: 'took',\n",
       " 94: 'bit',\n",
       " 95: 'we',\n",
       " 96: 'shower',\n",
       " 97: 'close',\n",
       " 98: 'quite',\n",
       " 99: '1',\n",
       " 100: 'week',\n",
       " 101: 'star',\n",
       " 102: 'times',\n",
       " 103: 'husband',\n",
       " 104: 'i',\n",
       " 105: 'big',\n",
       " 106: 'door',\n",
       " 107: 'bad',\n",
       " 108: 'problem',\n",
       " 109: 'airport',\n",
       " 110: 'staying',\n",
       " 111: 'quiet',\n",
       " 112: 'need',\n",
       " 113: 'left',\n",
       " 114: 'old',\n",
       " 115: 'money',\n",
       " 116: 'lot',\n",
       " 117: 'beds',\n",
       " 118: 'vacation',\n",
       " 119: 'walking',\n",
       " 120: 'long',\n",
       " 121: 'said',\n",
       " 122: 'asked',\n",
       " 123: 'know',\n",
       " 124: 'amazing',\n",
       " 125: 'sure',\n",
       " 126: 'worth',\n",
       " 127: 'think',\n",
       " 128: 'return',\n",
       " 129: 'home',\n",
       " 130: 'dinner',\n",
       " 131: 'drinks',\n",
       " 132: 'use',\n",
       " 133: 'feel',\n",
       " 134: 'station',\n",
       " 135: 'coffee',\n",
       " 136: 'é',\n",
       " 137: 'thing',\n",
       " 138: 'extremely',\n",
       " 139: 'highly',\n",
       " 140: 'eat',\n",
       " 141: 'year',\n",
       " 142: 'try',\n",
       " 143: 'nothing',\n",
       " 144: 'visit',\n",
       " 145: 'family',\n",
       " 146: 'looking',\n",
       " 147: 'enjoyed',\n",
       " 148: 'wanted',\n",
       " 149: 'things',\n",
       " 150: 'suite',\n",
       " 151: 'far',\n",
       " 152: 'located',\n",
       " 153: 'guests',\n",
       " 154: 'hot',\n",
       " 155: 'in',\n",
       " 156: 'internet',\n",
       " 157: 'work',\n",
       " 158: 'outside',\n",
       " 159: 'come',\n",
       " 160: 'reception',\n",
       " 161: 'overall',\n",
       " 162: 'club',\n",
       " 163: 'english',\n",
       " 164: 'returned',\n",
       " 165: 'huge',\n",
       " 166: 'modern',\n",
       " 167: 'main',\n",
       " 168: 'bus',\n",
       " 169: 'having',\n",
       " 170: 'fun',\n",
       " 171: 'came',\n",
       " 172: 'minute',\n",
       " 173: 'ca',\n",
       " 174: 'open',\n",
       " 175: 'air',\n",
       " 176: 'evening',\n",
       " 177: 'different',\n",
       " 178: 'towels',\n",
       " 179: 'value',\n",
       " 180: 'available',\n",
       " 181: 'couple',\n",
       " 182: 'early',\n",
       " 183: 'easy',\n",
       " 184: '6',\n",
       " 185: 'called',\n",
       " 186: 'lots',\n",
       " 187: 'noise',\n",
       " 188: 'felt',\n",
       " 189: 'hour',\n",
       " 190: 'pay',\n",
       " 191: 'spacious',\n",
       " 192: 'kids',\n",
       " 193: 'tv',\n",
       " 194: 'wait',\n",
       " 195: 'wife',\n",
       " 196: 'high',\n",
       " 197: 'size',\n",
       " 198: 'extra',\n",
       " 199: 'shopping',\n",
       " 200: 'thought',\n",
       " 201: 'especially',\n",
       " 202: 'absolutely',\n",
       " 203: 'end',\n",
       " 204: '30',\n",
       " 205: 'help',\n",
       " 206: 'hours',\n",
       " 207: 'spent',\n",
       " 208: 'ask',\n",
       " 209: 'pretty',\n",
       " 210: 'near',\n",
       " 211: 'hard',\n",
       " 212: 'car',\n",
       " 213: 'getting',\n",
       " 214: 'expensive',\n",
       " 215: 'drink',\n",
       " 216: 'book',\n",
       " 217: 'san',\n",
       " 218: 'used',\n",
       " 219: 'choice',\n",
       " 220: 'plenty',\n",
       " 221: 'short',\n",
       " 222: 'cana',\n",
       " 223: 'punta',\n",
       " 224: 'distance',\n",
       " 225: 'building',\n",
       " 226: 'able',\n",
       " 227: 'second',\n",
       " 228: 'travel',\n",
       " 229: '7',\n",
       " 230: 'quality',\n",
       " 231: 'ok',\n",
       " 232: 'safe',\n",
       " 233: 'look',\n",
       " 234: 'read',\n",
       " 235: 'happy',\n",
       " 236: 'does',\n",
       " 237: 'checked',\n",
       " 238: 'places',\n",
       " 239: 'business',\n",
       " 240: 'rate',\n",
       " 241: 'square',\n",
       " 242: 'included',\n",
       " 243: 'expect',\n",
       " 244: 'access',\n",
       " 245: 'given',\n",
       " 246: 'gave',\n",
       " 247: 'special',\n",
       " 248: '20',\n",
       " 249: 'fresh',\n",
       " 250: 'paid',\n",
       " 251: 'ocean',\n",
       " 252: 'manager',\n",
       " 253: 'late',\n",
       " 254: '15',\n",
       " 255: 'parking',\n",
       " 256: 'leave',\n",
       " 257: 'lounge',\n",
       " 258: 'enjoy',\n",
       " 259: 'weekend',\n",
       " 260: 'looked',\n",
       " 261: 'paris',\n",
       " 262: 'person',\n",
       " 263: 'holiday',\n",
       " 264: 'fine',\n",
       " 265: '00',\n",
       " 266: 'wine',\n",
       " 267: 'fabulous',\n",
       " 268: 'it',\n",
       " 269: 'friends',\n",
       " 270: 'tour',\n",
       " 271: 'actually',\n",
       " 272: 'la',\n",
       " 273: 'reservations',\n",
       " 274: 'needed',\n",
       " 275: 'disappointed',\n",
       " 276: 'concierge',\n",
       " 277: 'property',\n",
       " 278: 'park',\n",
       " 279: 'problems',\n",
       " 280: 'central',\n",
       " 281: 'lunch',\n",
       " 282: 'let',\n",
       " 283: 'pleasant',\n",
       " 284: 'barcelona',\n",
       " 285: 'ate',\n",
       " 286: 'views',\n",
       " 287: 'luggage',\n",
       " 288: 'metro',\n",
       " 289: '8',\n",
       " 290: 'spa',\n",
       " 291: 'years',\n",
       " 292: 'arrival',\n",
       " 293: 'standard',\n",
       " 294: 'florence',\n",
       " 295: 'ready',\n",
       " 296: 'deal',\n",
       " 297: 'tried',\n",
       " 298: 'probably',\n",
       " 299: 'warm',\n",
       " 300: 'love',\n",
       " 301: 'train',\n",
       " 302: 'bring',\n",
       " 303: 'cold',\n",
       " 304: 'bath',\n",
       " 305: 'taxi',\n",
       " 306: 'kept',\n",
       " 307: 'later',\n",
       " 308: 'including',\n",
       " 309: 'world',\n",
       " 310: 'french',\n",
       " 311: 'offered',\n",
       " 312: 'sleep',\n",
       " 313: 'bars',\n",
       " 314: 'double',\n",
       " 315: 'children',\n",
       " 316: 'yes',\n",
       " 317: 'fruit',\n",
       " 318: 'fact',\n",
       " 319: 'grounds',\n",
       " 320: 'real',\n",
       " 321: 'reservation',\n",
       " 322: 'balcony',\n",
       " 323: 'stop',\n",
       " 324: 'speak',\n",
       " 325: 'booking',\n",
       " 326: 'a',\n",
       " 327: 'amsterdam',\n",
       " 328: 'local',\n",
       " 329: 'plus',\n",
       " 330: 'charge',\n",
       " 331: 'saw',\n",
       " 332: 'ride',\n",
       " 333: 'walked',\n",
       " 334: 'entertainment',\n",
       " 335: 'island',\n",
       " 336: 'space',\n",
       " 337: 'corner',\n",
       " 338: 'decided',\n",
       " 339: 'tip',\n",
       " 340: 'certainly',\n",
       " 341: 'convenient',\n",
       " 342: 'king',\n",
       " 343: 'spanish',\n",
       " 344: 'shops',\n",
       " 345: 'table',\n",
       " 346: 'line',\n",
       " 347: 'recommended',\n",
       " 348: 'busy',\n",
       " 349: 'provided',\n",
       " 350: 'care',\n",
       " 351: 'cheap',\n",
       " 352: 'start',\n",
       " 353: 'guest',\n",
       " 354: 'change',\n",
       " 355: 'expected',\n",
       " 356: 'chairs',\n",
       " 357: 'tea',\n",
       " 358: 'cost',\n",
       " 359: 'half',\n",
       " 360: 'town',\n",
       " 361: 'review',\n",
       " 362: 'areas',\n",
       " 363: 'website',\n",
       " 364: 'honeymoon',\n",
       " 365: 'pools',\n",
       " 366: 'finally',\n",
       " 367: 'mini',\n",
       " 368: 'center',\n",
       " 369: 'course',\n",
       " 370: 'awesome',\n",
       " 371: 'spend',\n",
       " 372: 'all',\n",
       " 373: 'tell',\n",
       " 374: 'dirty',\n",
       " 375: 'site',\n",
       " 376: 'phone',\n",
       " 377: 'facilities',\n",
       " 378: 'euros',\n",
       " 379: 'card',\n",
       " 380: 'making',\n",
       " 381: 'flight',\n",
       " 382: 'offer',\n",
       " 383: 'block',\n",
       " 384: 'run',\n",
       " 385: 'served',\n",
       " 386: 'house',\n",
       " 387: 'cool',\n",
       " 388: 'poor',\n",
       " 389: 'window',\n",
       " 390: 'decorated',\n",
       " 391: 'worst',\n",
       " 392: 'entire',\n",
       " 393: 'light',\n",
       " 394: 'reading',\n",
       " 395: 'london',\n",
       " 396: 'nearby',\n",
       " 397: 'relaxing',\n",
       " 398: 'road',\n",
       " 399: 'meal',\n",
       " 400: 'centre',\n",
       " 401: 'order',\n",
       " 402: 'superb',\n",
       " 403: 'york',\n",
       " 404: 'blocks',\n",
       " 405: 'seen',\n",
       " 406: 'set',\n",
       " 407: 'rest',\n",
       " 408: 'kind',\n",
       " 409: 'there',\n",
       " 410: 'activities',\n",
       " 411: 'windows',\n",
       " 412: 'believe',\n",
       " 413: 'met',\n",
       " 414: 'working',\n",
       " 415: 'prices',\n",
       " 416: 'group',\n",
       " 417: '9',\n",
       " 418: 'worked',\n",
       " 419: 'inn',\n",
       " 420: 'decor',\n",
       " 421: 'complimentary',\n",
       " 422: 'dominican',\n",
       " 423: 'style',\n",
       " 424: 'upgraded',\n",
       " 425: 'twice',\n",
       " 426: 'welcome',\n",
       " 427: 'non',\n",
       " 428: 'waiting',\n",
       " 429: 'rude',\n",
       " 430: 'resorts',\n",
       " 431: 'hear',\n",
       " 432: 'cleaned',\n",
       " 433: 'point',\n",
       " 434: 'noisy',\n",
       " 435: 'liked',\n",
       " 436: 'bathrooms',\n",
       " 437: 'taken',\n",
       " 438: 'grand',\n",
       " 439: 'bedroom',\n",
       " 440: 'sun',\n",
       " 441: 'truly',\n",
       " 442: 'trying',\n",
       " 443: 'impressed',\n",
       " 444: 'shuttle',\n",
       " 445: 'wedding',\n",
       " 446: 'market',\n",
       " 447: 'tourist',\n",
       " 448: 'afternoon',\n",
       " 449: 'level',\n",
       " 450: 'bags',\n",
       " 451: 'music',\n",
       " 452: 'palace',\n",
       " 453: 'received',\n",
       " 454: 'needs',\n",
       " 455: 'major',\n",
       " 456: 'bali',\n",
       " 457: '12',\n",
       " 458: 'terrible',\n",
       " 459: 'juan',\n",
       " 460: 'quick',\n",
       " 461: 'tub',\n",
       " 462: 'glass',\n",
       " 463: 'daily',\n",
       " 464: 'maybe',\n",
       " 465: 'bottle',\n",
       " 466: '11',\n",
       " 467: 'italian',\n",
       " 468: 'spoke',\n",
       " 469: 'coming',\n",
       " 470: 'brought',\n",
       " 471: 'choose',\n",
       " 472: 'chose',\n",
       " 473: 'toilet',\n",
       " 474: 'delicious',\n",
       " 475: 'housekeeping',\n",
       " 476: 'amenities',\n",
       " 477: 'gorgeous',\n",
       " 478: 'definately',\n",
       " 479: 'party',\n",
       " 480: 'selection',\n",
       " 481: 'dining',\n",
       " 482: 'dont',\n",
       " 483: 'sick',\n",
       " 484: 'shows',\n",
       " 485: 'mind',\n",
       " 486: 'weather',\n",
       " 487: 'reasonable',\n",
       " 488: 'single',\n",
       " 489: '50',\n",
       " 490: 'management',\n",
       " 491: 'touch',\n",
       " 492: 'negative',\n",
       " 493: 'number',\n",
       " 494: 'average',\n",
       " 495: 'variety',\n",
       " 496: 'daughter',\n",
       " 497: 'customer',\n",
       " 498: 'hilton',\n",
       " 499: 'note',\n",
       " 500: 'sit',\n",
       " 501: 'st',\n",
       " 502: 'instead',\n",
       " 503: 'wall',\n",
       " 504: 'thank',\n",
       " 505: 'key',\n",
       " 506: 'middle',\n",
       " 507: 'tiny',\n",
       " 508: 'white',\n",
       " 509: 'american',\n",
       " 510: 'super',\n",
       " 511: 'cafe',\n",
       " 512: 'heard',\n",
       " 513: 'private',\n",
       " 514: 'suites',\n",
       " 515: 'request',\n",
       " 516: 'inclusive',\n",
       " 517: 'wrong',\n",
       " 518: '24',\n",
       " 519: 'soon',\n",
       " 520: 'swim',\n",
       " 521: 'tower',\n",
       " 522: 'pillows',\n",
       " 523: 'efficient',\n",
       " 524: 'requested',\n",
       " 525: 'true',\n",
       " 526: 'turn',\n",
       " 527: 'upgrade',\n",
       " 528: 'maid',\n",
       " 529: 'taking',\n",
       " 530: 'weeks',\n",
       " 531: 'atmosphere',\n",
       " 532: 'smell',\n",
       " 533: 'outstanding',\n",
       " 534: 'overlooking',\n",
       " 535: 'birthday',\n",
       " 536: 'previous',\n",
       " 537: 'makes',\n",
       " 538: 'downtown',\n",
       " 539: 'directly',\n",
       " 540: 'remember',\n",
       " 541: 'relax',\n",
       " 542: 'life',\n",
       " 543: 'hope',\n",
       " 544: 'luxury',\n",
       " 545: 'turned',\n",
       " 546: '100',\n",
       " 547: 'elevator',\n",
       " 548: 'conditioning',\n",
       " 549: 'usually',\n",
       " 550: 'attentive',\n",
       " 551: 'plaza',\n",
       " 552: 'professional',\n",
       " 553: 'horrible',\n",
       " 554: 'class',\n",
       " 555: 'decent',\n",
       " 556: 'package',\n",
       " 557: 'thanks',\n",
       " 558: 'wish',\n",
       " 559: 'francisco',\n",
       " 560: 'didnt',\n",
       " 561: 'knew',\n",
       " 562: 'fridge',\n",
       " 563: 'country',\n",
       " 564: 'leaving',\n",
       " 565: 'simply',\n",
       " 566: 'garden',\n",
       " 567: 'expectations',\n",
       " 568: 'unless',\n",
       " 569: 'checking',\n",
       " 570: 'royal',\n",
       " 571: 'bavaro',\n",
       " 572: 'friend',\n",
       " 573: 'helped',\n",
       " 574: 'casino',\n",
       " 575: 'past',\n",
       " 576: 'understand',\n",
       " 577: 'polite',\n",
       " 578: 'watch',\n",
       " 579: 'w',\n",
       " 580: 'greeted',\n",
       " 581: 'menu',\n",
       " 582: 'seattle',\n",
       " 583: 'standards',\n",
       " 584: 'tripadvisor',\n",
       " 585: 'attractions',\n",
       " 586: 'pick',\n",
       " 587: 'head',\n",
       " 588: 'priced',\n",
       " 589: 'shop',\n",
       " 590: 'moved',\n",
       " 591: 'ended',\n",
       " 592: 'beer',\n",
       " 593: 'based',\n",
       " 594: 'public',\n",
       " 595: 'recently',\n",
       " 596: 'walls',\n",
       " 597: 'spotless',\n",
       " 598: 'complaints',\n",
       " 599: 'champagne',\n",
       " 600: 'young',\n",
       " 601: 'quickly',\n",
       " 602: 'cheese',\n",
       " 603: 'subway',\n",
       " 604: 'favorite',\n",
       " 605: 'nicely',\n",
       " 606: 'break',\n",
       " 607: 'changed',\n",
       " 608: 'well',\n",
       " 609: 'c',\n",
       " 610: 'everyday',\n",
       " 611: 'buy',\n",
       " 612: 'mins',\n",
       " 613: 'excellence',\n",
       " 614: 'immediately',\n",
       " 615: 'japanese',\n",
       " 616: 'cab',\n",
       " 617: 'wo',\n",
       " 618: 'ritz',\n",
       " 619: 'issue',\n",
       " 620: 'son',\n",
       " 621: 'sitting',\n",
       " 622: 'plan',\n",
       " 623: 'treated',\n",
       " 624: 'charming',\n",
       " 625: 'completely',\n",
       " 626: 'doors',\n",
       " 627: 'courtyard',\n",
       " 628: 'sand',\n",
       " 629: 'spot',\n",
       " 630: 'continental',\n",
       " 631: 'ones',\n",
       " 632: 'possible',\n",
       " 633: 'surprised',\n",
       " 634: 'european',\n",
       " 635: '25',\n",
       " 636: 'complaint',\n",
       " 637: 'smoking',\n",
       " 638: 'on',\n",
       " 639: 'pleased',\n",
       " 640: 'inside',\n",
       " 641: 'doing',\n",
       " 642: 'meals',\n",
       " 643: 'floors',\n",
       " 644: 'store',\n",
       " 645: 'mentioned',\n",
       " 646: 'despite',\n",
       " 647: 'moment',\n",
       " 648: 'cruise',\n",
       " 649: 'appointed',\n",
       " 650: 'nyc',\n",
       " 651: 'live',\n",
       " 652: 'hand',\n",
       " 653: 'eating',\n",
       " 654: 'visited',\n",
       " 655: 'gym',\n",
       " 656: 'services',\n",
       " 657: 'smile',\n",
       " 658: 'returning',\n",
       " 659: 'incredible',\n",
       " 660: 'none',\n",
       " 661: 'guess',\n",
       " 662: 'oh',\n",
       " 663: 'separate',\n",
       " 664: 'harbour',\n",
       " 665: 'canal',\n",
       " 666: 'flat',\n",
       " 667: 'started',\n",
       " 668: 'charged',\n",
       " 669: 'job',\n",
       " 670: 'dark',\n",
       " 671: 'tropical',\n",
       " 672: 'positive',\n",
       " 673: 'you',\n",
       " 674: 'e',\n",
       " 675: 'heart',\n",
       " 676: 'this',\n",
       " 677: 'ice',\n",
       " 678: 'type',\n",
       " 679: 'out',\n",
       " 680: 'surprise',\n",
       " 681: 'fault',\n",
       " 682: 'totally',\n",
       " 683: 'courteous',\n",
       " 684: 'eggs',\n",
       " 685: 'boyfriend',\n",
       " 686: 'items',\n",
       " 687: 'cleaning',\n",
       " 688: 'blue',\n",
       " 689: 'romantic',\n",
       " 690: 'orleans',\n",
       " 691: 'experienced',\n",
       " 692: 'stuff',\n",
       " 693: 'dollars',\n",
       " 694: 'towel',\n",
       " 695: 'westin',\n",
       " 696: 'goes',\n",
       " 697: 'complain',\n",
       " 698: 'advice',\n",
       " 699: 'marriott',\n",
       " 700: 'riu',\n",
       " 701: 'closed',\n",
       " 702: 'welcoming',\n",
       " 703: 'sheets',\n",
       " 704: 'easily',\n",
       " 705: 'if',\n",
       " 706: 'm',\n",
       " 707: 'questions',\n",
       " 708: 'drive',\n",
       " 709: 'kitchen',\n",
       " 710: 'traveling',\n",
       " 711: 'mention',\n",
       " 712: 'alot',\n",
       " 713: 'villa',\n",
       " 714: 'min',\n",
       " 715: 'swimming',\n",
       " 716: 'advisor',\n",
       " 717: 'ideal',\n",
       " 718: 'comfy',\n",
       " 719: 'treat',\n",
       " 720: 'screen',\n",
       " 721: 'paying',\n",
       " 722: 'sydney',\n",
       " 723: 'pm',\n",
       " 724: 'reason',\n",
       " 725: 'okay',\n",
       " 726: 'guy',\n",
       " 727: 'man',\n",
       " 728: 'loud',\n",
       " 729: 'avoid',\n",
       " 730: 'boutique',\n",
       " 731: 'prepared',\n",
       " 732: 'construction',\n",
       " 733: 'basic',\n",
       " 734: 's',\n",
       " 735: 'majestic',\n",
       " 736: 'singapore',\n",
       " 737: 'paradise',\n",
       " 738: 'using',\n",
       " 739: 'pictures',\n",
       " 740: 'visiting',\n",
       " 741: 'europe',\n",
       " 742: 'credit',\n",
       " 743: 'enjoyable',\n",
       " 744: 'matter',\n",
       " 745: 'deluxe',\n",
       " 746: 'trips',\n",
       " 747: 'stars',\n",
       " 748: 'particularly',\n",
       " 749: 'tired',\n",
       " 750: 'u',\n",
       " 751: 'unfortunately',\n",
       " 752: 'fish',\n",
       " 753: 'security',\n",
       " 754: 'couples',\n",
       " 755: 'sent',\n",
       " 756: 'nicer',\n",
       " 757: 'broken',\n",
       " 758: 'terrific',\n",
       " 759: 'miss',\n",
       " 760: 'cheaper',\n",
       " 761: 'maintained',\n",
       " 762: 'adequate',\n",
       " 763: 'furniture',\n",
       " 764: 'attention',\n",
       " 765: 'steak',\n",
       " 766: 'living',\n",
       " 767: 'june',\n",
       " 768: 'opened',\n",
       " 769: 'general',\n",
       " 770: 'sights',\n",
       " 771: 'juice',\n",
       " 772: 'anniversary',\n",
       " 773: 'beat',\n",
       " 774: 'case',\n",
       " 775: 'snacks',\n",
       " 776: 'executive',\n",
       " 777: 'valet',\n",
       " 778: 'el',\n",
       " 779: 'saying',\n",
       " 780: 'july',\n",
       " 781: 'lack',\n",
       " 782: 'arrive',\n",
       " 783: 'berlin',\n",
       " 784: 'noticed',\n",
       " 785: 'crowded',\n",
       " 786: 'ramblas',\n",
       " 787: 'terrace',\n",
       " 788: 'forget',\n",
       " 789: 'bother',\n",
       " 790: 'carte',\n",
       " 791: 'member',\n",
       " 792: 'looks',\n",
       " 793: 'chair',\n",
       " 794: 'beautifully',\n",
       " 795: 'takes',\n",
       " 796: '3rd',\n",
       " 797: 'district',\n",
       " 798: '2nd',\n",
       " 799: 'up',\n",
       " 800: 'brilliant',\n",
       " 801: 'seeing',\n",
       " 802: 'jacuzzi',\n",
       " 803: 'marble',\n",
       " 804: 'lost',\n",
       " 805: 'sized',\n",
       " 806: 'compared',\n",
       " 807: 'boat',\n",
       " 808: 'exactly',\n",
       " 809: 'slow',\n",
       " 810: 'sea',\n",
       " 811: 'hong',\n",
       " 812: 'kong',\n",
       " 813: 'low',\n",
       " 814: 'glad',\n",
       " 815: 'boston',\n",
       " 816: 'mexican',\n",
       " 817: 'trouble',\n",
       " 818: 'our',\n",
       " 819: 'meet',\n",
       " 820: 'choices',\n",
       " 821: 'gem',\n",
       " 822: 'sites',\n",
       " 823: 'april',\n",
       " 824: 'idea',\n",
       " 825: 'euro',\n",
       " 826: 'seafood',\n",
       " 827: 'provide',\n",
       " 828: 'prior',\n",
       " 829: 'pricey',\n",
       " 830: 'march',\n",
       " 831: 'perfectly',\n",
       " 832: 'situated',\n",
       " 833: 'directions',\n",
       " 834: 'river',\n",
       " 835: 'larger',\n",
       " 836: 'awful',\n",
       " 837: 'waikiki',\n",
       " 838: 'personal',\n",
       " 839: 'grill',\n",
       " 840: 'stocked',\n",
       " 841: 'exceptional',\n",
       " 842: 'ago',\n",
       " 843: 'soft',\n",
       " 844: 'planning',\n",
       " 845: 'information',\n",
       " 846: 'rain',\n",
       " 847: 'cable',\n",
       " 848: 'asking',\n",
       " 849: 'fast',\n",
       " 850: 'ordered',\n",
       " 851: 'spectacular',\n",
       " 852: 'forward',\n",
       " 853: 'queen',\n",
       " 854: 'tours',\n",
       " 855: 'offers',\n",
       " 856: 'sign',\n",
       " 857: '40',\n",
       " 858: 'difficult',\n",
       " 859: 'bridge',\n",
       " 860: 'literally',\n",
       " 861: 'etc',\n",
       " 862: 'luxurious',\n",
       " 863: 'museum',\n",
       " 864: 'roof',\n",
       " 865: 'rates',\n",
       " 866: 'entrance',\n",
       " 867: 'wow',\n",
       " 868: 'venice',\n",
       " 869: 'tables',\n",
       " 870: 'toiletries',\n",
       " 871: 'traveled',\n",
       " 872: 'tips',\n",
       " 873: 'driver',\n",
       " 874: 'red',\n",
       " 875: 'puerto',\n",
       " 876: 'didn',\n",
       " 877: 'picked',\n",
       " 878: 'months',\n",
       " 879: 'comments',\n",
       " 880: 'opinion',\n",
       " 881: 'stairs',\n",
       " 882: 'longer',\n",
       " 883: 'tram',\n",
       " 884: 'las',\n",
       " 885: 'neighborhood',\n",
       " 886: 'traffic',\n",
       " 887: 'waited',\n",
       " 888: 'union',\n",
       " 889: 'golf',\n",
       " 890: 'bugs',\n",
       " 891: 'email',\n",
       " 892: 'slept',\n",
       " 893: 'attitude',\n",
       " 894: 'don',\n",
       " 895: 'closet',\n",
       " 896: 'my',\n",
       " 897: 'speaking',\n",
       " 898: 'fairly',\n",
       " 899: 'advance',\n",
       " 900: 'apple',\n",
       " 901: 'budget',\n",
       " 902: 'clear',\n",
       " 903: 'employees',\n",
       " 904: 'considering',\n",
       " 905: 'important',\n",
       " 906: 'ceiling',\n",
       " 907: 'allowed',\n",
       " 908: 'company',\n",
       " 909: 'smaller',\n",
       " 910: 'superior',\n",
       " 911: 'limited',\n",
       " 912: 'simple',\n",
       " 913: 'massage',\n",
       " 914: 'downstairs',\n",
       " 915: 'issues',\n",
       " 916: 'one',\n",
       " 917: 'agent',\n",
       " 918: 'princess',\n",
       " 919: 'tourists',\n",
       " 920: 'suggest',\n",
       " 921: 'renovated',\n",
       " 922: 'design',\n",
       " 923: 'future',\n",
       " 924: 'beware',\n",
       " 925: 'complained',\n",
       " 926: 'running',\n",
       " 927: 'chocolate',\n",
       " 928: 'imagine',\n",
       " 929: 'recommendations',\n",
       " 930: 'facing',\n",
       " 931: 'delivered',\n",
       " 932: 'chain',\n",
       " 933: 'stops',\n",
       " 934: 'word',\n",
       " 935: 'feeling',\n",
       " 936: 'italy',\n",
       " 937: 'melia',\n",
       " 938: 'language',\n",
       " 939: 'lady',\n",
       " 940: 'list',\n",
       " 941: 'complete',\n",
       " 942: 'pizza',\n",
       " 943: 'mall',\n",
       " 944: 'quarter',\n",
       " 945: 'interesting',\n",
       " 946: 'breakfasts',\n",
       " 947: 'madrid',\n",
       " 948: 'caribe',\n",
       " 949: 'disappointing',\n",
       " 950: 'beaches',\n",
       " 951: 'sister',\n",
       " 952: 'happened',\n",
       " 953: 'so',\n",
       " 954: 'sightseeing',\n",
       " 955: 'higher',\n",
       " 956: 'write',\n",
       " 957: 'guys',\n",
       " 958: 'disco',\n",
       " 959: 'tokyo',\n",
       " 960: 'buffets',\n",
       " 961: 'immaculate',\n",
       " 962: 'appreciated',\n",
       " 963: 'bread',\n",
       " 964: 'chance',\n",
       " 965: 'following',\n",
       " 966: 'travelling',\n",
       " 967: 'families',\n",
       " 968: 'points',\n",
       " 969: 'consider',\n",
       " 970: 'online',\n",
       " 971: 'means',\n",
       " 972: 'slightly',\n",
       " 973: 'round',\n",
       " 974: 'caribbean',\n",
       " 975: 'sound',\n",
       " 976: 'steps',\n",
       " 977: 'flowers',\n",
       " 978: 'chinese',\n",
       " 979: 'whilst',\n",
       " 980: 'worse',\n",
       " 981: 'mexico',\n",
       " 982: 'secrets',\n",
       " 983: 'sleeping',\n",
       " 984: 'options',\n",
       " 985: 'gets',\n",
       " 986: 'thoroughly',\n",
       " 987: 'august',\n",
       " 988: 'junior',\n",
       " 989: 'saturday',\n",
       " 990: 'adults',\n",
       " 991: 'pressure',\n",
       " 992: 'expecting',\n",
       " 993: 'agree',\n",
       " 994: '14',\n",
       " 995: 'travelers',\n",
       " 996: 'obviously',\n",
       " 997: 'members',\n",
       " 998: 'gone',\n",
       " 999: 'month',\n",
       " 1000: 'feet',\n",
       " ...}"
      ]
     },
     "execution_count": 14,
     "metadata": {},
     "output_type": "execute_result"
    }
   ],
   "source": [
    "tokenizer.index_word"
   ]
  },
  {
   "cell_type": "code",
   "execution_count": 15,
   "metadata": {
    "execution": {
     "iopub.execute_input": "2021-07-15T14:06:07.405052Z",
     "iopub.status.busy": "2021-07-15T14:06:07.404730Z",
     "iopub.status.idle": "2021-07-15T14:06:07.676533Z",
     "shell.execute_reply": "2021-07-15T14:06:07.675479Z",
     "shell.execute_reply.started": "2021-07-15T14:06:07.405022Z"
    }
   },
   "outputs": [],
   "source": [
    "# Now to create a RNN-NLP model,each input should be equal in length\n",
    "# we can acheciving by padding\n",
    "from tensorflow.keras.preprocessing.sequence import pad_sequences\n",
    "\n",
    "# We will keep the length of inputs to be 100.So if any input have length less then 100,extra 0s will be added\n",
    "# Any input with length more then 100 will have the extra word removed.\n",
    "sequences_padded = pad_sequences(sequences,maxlen=100,padding='post')\n"
   ]
  },
  {
   "cell_type": "code",
   "execution_count": 16,
   "metadata": {
    "execution": {
     "iopub.execute_input": "2021-07-15T14:06:07.678447Z",
     "iopub.status.busy": "2021-07-15T14:06:07.678126Z",
     "iopub.status.idle": "2021-07-15T14:06:07.689792Z",
     "shell.execute_reply": "2021-07-15T14:06:07.688756Z",
     "shell.execute_reply.started": "2021-07-15T14:06:07.678419Z"
    }
   },
   "outputs": [
    {
     "data": {
      "text/plain": [
       "array([[  292,  2208,     1, ...,   932,    57,   582],\n",
       "       [ 1228,     4,     7, ...,     0,     0,     0],\n",
       "       [20650,     4,    37, ...,  3796,     5,   373],\n",
       "       ...,\n",
       "       [  231,    10,   792, ...,     0,     0,     0],\n",
       "       [ 1642,  1297,   640, ...,   267,  4930,  4259],\n",
       "       [   33,  1113,   173, ...,     0,     0,     0]])"
      ]
     },
     "execution_count": 16,
     "metadata": {},
     "output_type": "execute_result"
    }
   ],
   "source": [
    "sequences_padded # input data"
   ]
  },
  {
   "cell_type": "code",
   "execution_count": 17,
   "metadata": {
    "execution": {
     "iopub.execute_input": "2021-07-15T14:06:07.691973Z",
     "iopub.status.busy": "2021-07-15T14:06:07.691349Z",
     "iopub.status.idle": "2021-07-15T14:06:07.707917Z",
     "shell.execute_reply": "2021-07-15T14:06:07.706608Z",
     "shell.execute_reply.started": "2021-07-15T14:06:07.691929Z"
    }
   },
   "outputs": [
    {
     "data": {
      "text/plain": [
       "array(['Neg', 'Pos'], dtype=object)"
      ]
     },
     "execution_count": 17,
     "metadata": {},
     "output_type": "execute_result"
    }
   ],
   "source": [
    "# Now our input variable is in correct format to create and train our model\n",
    "# Let's check the output variable\n",
    "df['Rating'].unique()"
   ]
  },
  {
   "cell_type": "code",
   "execution_count": 19,
   "metadata": {
    "execution": {
     "iopub.execute_input": "2021-07-15T14:06:07.711731Z",
     "iopub.status.busy": "2021-07-15T14:06:07.711358Z",
     "iopub.status.idle": "2021-07-15T14:06:07.732185Z",
     "shell.execute_reply": "2021-07-15T14:06:07.730701Z",
     "shell.execute_reply.started": "2021-07-15T14:06:07.711700Z"
    }
   },
   "outputs": [
    {
     "data": {
      "text/plain": [
       "array([0, 1, 1, ..., 0, 0, 0], dtype=int64)"
      ]
     },
     "execution_count": 19,
     "metadata": {},
     "output_type": "execute_result"
    }
   ],
   "source": [
    "# We can replace the Pos with 1 and Neg with 0\n",
    "y = np.array(df['Rating'].apply(lambda rating: 1 if rating == 'Pos' else 0))\n",
    "\n",
    "y"
   ]
  },
  {
   "cell_type": "code",
   "execution_count": 20,
   "metadata": {
    "execution": {
     "iopub.execute_input": "2021-07-15T14:06:07.734176Z",
     "iopub.status.busy": "2021-07-15T14:06:07.733684Z",
     "iopub.status.idle": "2021-07-15T14:06:07.962870Z",
     "shell.execute_reply": "2021-07-15T14:06:07.961524Z",
     "shell.execute_reply.started": "2021-07-15T14:06:07.734135Z"
    }
   },
   "outputs": [],
   "source": [
    "# Our input and out put varibales are ready.Let's split the data into train set and test set\n",
    "from sklearn.model_selection import train_test_split\n",
    "\n",
    "X_train,X_test,y_train,y_test = train_test_split(sequences_padded,y,test_size=0.2)"
   ]
  },
  {
   "cell_type": "code",
   "execution_count": 21,
   "metadata": {
    "execution": {
     "iopub.execute_input": "2021-07-15T14:06:07.965262Z",
     "iopub.status.busy": "2021-07-15T14:06:07.964792Z",
     "iopub.status.idle": "2021-07-15T14:06:07.971539Z",
     "shell.execute_reply": "2021-07-15T14:06:07.970692Z",
     "shell.execute_reply.started": "2021-07-15T14:06:07.965212Z"
    }
   },
   "outputs": [],
   "source": [
    "# Libraries to create and train our model\n",
    "from tensorflow.keras.models import Sequential\n",
    "from tensorflow.keras.layers import Dense\n",
    "from tensorflow.keras.layers import LSTM\n",
    "from tensorflow.keras.layers import Dropout\n",
    "from tensorflow.keras.layers import Embedding"
   ]
  },
  {
   "cell_type": "code",
   "execution_count": 22,
   "metadata": {
    "execution": {
     "iopub.execute_input": "2021-07-15T14:06:07.973119Z",
     "iopub.status.busy": "2021-07-15T14:06:07.972712Z",
     "iopub.status.idle": "2021-07-15T14:06:08.998972Z",
     "shell.execute_reply": "2021-07-15T14:06:08.997431Z",
     "shell.execute_reply.started": "2021-07-15T14:06:07.973083Z"
    }
   },
   "outputs": [
    {
     "name": "stdout",
     "output_type": "stream",
     "text": [
      "Model: \"sequential\"\n",
      "_________________________________________________________________\n",
      "Layer (type)                 Output Shape              Param #   \n",
      "=================================================================\n",
      "embedding (Embedding)        (None, 100, 32)           1291296   \n",
      "_________________________________________________________________\n",
      "lstm (LSTM)                  (None, 100, 150)          109800    \n",
      "_________________________________________________________________\n",
      "dropout (Dropout)            (None, 100, 150)          0         \n",
      "_________________________________________________________________\n",
      "lstm_1 (LSTM)                (None, 150)               180600    \n",
      "_________________________________________________________________\n",
      "dropout_1 (Dropout)          (None, 150)               0         \n",
      "_________________________________________________________________\n",
      "dense (Dense)                (None, 256)               38656     \n",
      "_________________________________________________________________\n",
      "dropout_2 (Dropout)          (None, 256)               0         \n",
      "_________________________________________________________________\n",
      "dense_1 (Dense)              (None, 128)               32896     \n",
      "_________________________________________________________________\n",
      "dense_2 (Dense)              (None, 1)                 129       \n",
      "=================================================================\n",
      "Total params: 1,653,377\n",
      "Trainable params: 1,653,377\n",
      "Non-trainable params: 0\n",
      "_________________________________________________________________\n"
     ]
    }
   ],
   "source": [
    "# Model\n",
    "max_len = 100 # length of each input\n",
    "embedding_size = 32\n",
    "\n",
    "model = Sequential()\n",
    "\n",
    "model.add(Embedding(vocab_size+1,embedding_size,input_length = max_len))\n",
    "\n",
    "model.add(LSTM(150,return_sequences=True))\n",
    "model.add(Dropout(0.2))\n",
    "\n",
    "model.add(LSTM(150))\n",
    "model.add(Dropout(0.2))\n",
    "\n",
    "model.add(Dense(256,activation='relu'))\n",
    "model.add(Dropout(0.2))\n",
    "\n",
    "model.add(Dense(128,activation='relu'))\n",
    "\n",
    "model.add(Dense(1,activation='sigmoid'))\n",
    "\n",
    "model.compile(optimizer='adam',loss='binary_crossentropy',metrics=['accuracy'])\n",
    "\n",
    "model.summary()"
   ]
  },
  {
   "cell_type": "code",
   "execution_count": 25,
   "metadata": {
    "execution": {
     "iopub.execute_input": "2021-07-15T14:38:30.618800Z",
     "iopub.status.busy": "2021-07-15T14:38:30.618182Z",
     "iopub.status.idle": "2021-07-15T14:53:31.746949Z",
     "shell.execute_reply": "2021-07-15T14:53:31.745778Z",
     "shell.execute_reply.started": "2021-07-15T14:38:30.618764Z"
    }
   },
   "outputs": [
    {
     "name": "stdout",
     "output_type": "stream",
     "text": [
      "Epoch 1/15\n",
      "154/154 [==============================] - 86s 559ms/step - loss: 0.4045 - accuracy: 0.7409 - val_loss: 0.4414 - val_accuracy: 0.7274\n",
      "Epoch 2/15\n",
      "154/154 [==============================] - 88s 570ms/step - loss: 0.3863 - accuracy: 0.7592 - val_loss: 0.4413 - val_accuracy: 0.7274\n",
      "Epoch 3/15\n",
      "154/154 [==============================] - 87s 564ms/step - loss: 0.3980 - accuracy: 0.7419 - val_loss: 0.4333 - val_accuracy: 0.7278\n",
      "Epoch 4/15\n",
      "154/154 [==============================] - 87s 562ms/step - loss: 0.3778 - accuracy: 0.7680 - val_loss: 0.3524 - val_accuracy: 0.8720\n",
      "Epoch 5/15\n",
      "154/154 [==============================] - 86s 560ms/step - loss: 0.1409 - accuracy: 0.9599 - val_loss: 0.2670 - val_accuracy: 0.8843\n",
      "Epoch 6/15\n",
      "154/154 [==============================] - 88s 573ms/step - loss: 0.1106 - accuracy: 0.9696 - val_loss: 0.2902 - val_accuracy: 0.9014\n",
      "Epoch 7/15\n",
      "154/154 [==============================] - 86s 561ms/step - loss: 0.1478 - accuracy: 0.9576 - val_loss: 0.2648 - val_accuracy: 0.8908\n",
      "Epoch 8/15\n",
      "154/154 [==============================] - 88s 569ms/step - loss: 0.2597 - accuracy: 0.8573 - val_loss: 0.4285 - val_accuracy: 0.8362\n",
      "Epoch 9/15\n",
      "154/154 [==============================] - 87s 566ms/step - loss: 0.1271 - accuracy: 0.9594 - val_loss: 0.2286 - val_accuracy: 0.9279\n",
      "Epoch 10/15\n",
      "154/154 [==============================] - 88s 571ms/step - loss: 0.0381 - accuracy: 0.9890 - val_loss: 0.2209 - val_accuracy: 0.9442\n",
      "Epoch 11/15\n",
      "154/154 [==============================] - 97s 627ms/step - loss: 0.0450 - accuracy: 0.9872 - val_loss: 0.2677 - val_accuracy: 0.9218\n",
      "Epoch 12/15\n",
      "154/154 [==============================] - 93s 602ms/step - loss: 0.0264 - accuracy: 0.9928 - val_loss: 0.2618 - val_accuracy: 0.9434\n",
      "Epoch 13/15\n",
      "154/154 [==============================] - 106s 689ms/step - loss: 0.0134 - accuracy: 0.9960 - val_loss: 0.2360 - val_accuracy: 0.9474\n",
      "Epoch 14/15\n",
      "154/154 [==============================] - 93s 604ms/step - loss: 0.0088 - accuracy: 0.9977 - val_loss: 0.3192 - val_accuracy: 0.9324\n",
      "Epoch 15/15\n",
      "154/154 [==============================] - 87s 566ms/step - loss: 0.0036 - accuracy: 0.9995 - val_loss: 0.3066 - val_accuracy: 0.9454\n"
     ]
    },
    {
     "data": {
      "text/plain": [
       "<tensorflow.python.keras.callbacks.History at 0x1913de99be0>"
      ]
     },
     "execution_count": 25,
     "metadata": {},
     "output_type": "execute_result"
    }
   ],
   "source": [
    "# Let's train our model\n",
    "model.fit(X_train,y_train,validation_data=(X_test,y_test),epochs=15,batch_size=64)"
   ]
  },
  {
   "cell_type": "code",
   "execution_count": 26,
   "metadata": {
    "execution": {
     "iopub.execute_input": "2021-07-15T14:56:49.151380Z",
     "iopub.status.busy": "2021-07-15T14:56:49.150605Z",
     "iopub.status.idle": "2021-07-15T14:56:49.175222Z",
     "shell.execute_reply": "2021-07-15T14:56:49.174206Z",
     "shell.execute_reply.started": "2021-07-15T14:56:49.151318Z"
    }
   },
   "outputs": [
    {
     "data": {
      "text/html": [
       "<div>\n",
       "<style scoped>\n",
       "    .dataframe tbody tr th:only-of-type {\n",
       "        vertical-align: middle;\n",
       "    }\n",
       "\n",
       "    .dataframe tbody tr th {\n",
       "        vertical-align: top;\n",
       "    }\n",
       "\n",
       "    .dataframe thead th {\n",
       "        text-align: right;\n",
       "    }\n",
       "</style>\n",
       "<table border=\"1\" class=\"dataframe\">\n",
       "  <thead>\n",
       "    <tr style=\"text-align: right;\">\n",
       "      <th></th>\n",
       "      <th>loss</th>\n",
       "      <th>accuracy</th>\n",
       "      <th>val_loss</th>\n",
       "      <th>val_accuracy</th>\n",
       "    </tr>\n",
       "  </thead>\n",
       "  <tbody>\n",
       "    <tr>\n",
       "      <th>0</th>\n",
       "      <td>0.404472</td>\n",
       "      <td>0.740880</td>\n",
       "      <td>0.441439</td>\n",
       "      <td>0.727384</td>\n",
       "    </tr>\n",
       "    <tr>\n",
       "      <th>1</th>\n",
       "      <td>0.386284</td>\n",
       "      <td>0.759221</td>\n",
       "      <td>0.441258</td>\n",
       "      <td>0.727384</td>\n",
       "    </tr>\n",
       "    <tr>\n",
       "      <th>2</th>\n",
       "      <td>0.397968</td>\n",
       "      <td>0.741899</td>\n",
       "      <td>0.433347</td>\n",
       "      <td>0.727791</td>\n",
       "    </tr>\n",
       "    <tr>\n",
       "      <th>3</th>\n",
       "      <td>0.377781</td>\n",
       "      <td>0.767985</td>\n",
       "      <td>0.352388</td>\n",
       "      <td>0.872046</td>\n",
       "    </tr>\n",
       "    <tr>\n",
       "      <th>4</th>\n",
       "      <td>0.140857</td>\n",
       "      <td>0.959853</td>\n",
       "      <td>0.267016</td>\n",
       "      <td>0.884271</td>\n",
       "    </tr>\n",
       "  </tbody>\n",
       "</table>\n",
       "</div>"
      ],
      "text/plain": [
       "       loss  accuracy  val_loss  val_accuracy\n",
       "0  0.404472  0.740880  0.441439      0.727384\n",
       "1  0.386284  0.759221  0.441258      0.727384\n",
       "2  0.397968  0.741899  0.433347      0.727791\n",
       "3  0.377781  0.767985  0.352388      0.872046\n",
       "4  0.140857  0.959853  0.267016      0.884271"
      ]
     },
     "execution_count": 26,
     "metadata": {},
     "output_type": "execute_result"
    }
   ],
   "source": [
    "metrics = pd.DataFrame(model.history.history)\n",
    "\n",
    "metrics.head()"
   ]
  },
  {
   "cell_type": "code",
   "execution_count": 27,
   "metadata": {
    "execution": {
     "iopub.execute_input": "2021-07-15T14:57:07.964130Z",
     "iopub.status.busy": "2021-07-15T14:57:07.963691Z",
     "iopub.status.idle": "2021-07-15T14:57:08.218509Z",
     "shell.execute_reply": "2021-07-15T14:57:08.217167Z",
     "shell.execute_reply.started": "2021-07-15T14:57:07.964093Z"
    }
   },
   "outputs": [
    {
     "data": {
      "text/plain": [
       "<AxesSubplot:>"
      ]
     },
     "execution_count": 27,
     "metadata": {},
     "output_type": "execute_result"
    },
    {
     "data": {
      "image/png": "[encoded data removed]",
      "text/plain": [
       "<Figure size 432x288 with 1 Axes>"
      ]
     },
     "metadata": {
      "needs_background": "light"
     },
     "output_type": "display_data"
    }
   ],
   "source": [
    "metrics[['loss','val_loss']].plot()"
   ]
  },
  {
   "cell_type": "code",
   "execution_count": 28,
   "metadata": {
    "execution": {
     "iopub.execute_input": "2021-07-15T14:57:37.804463Z",
     "iopub.status.busy": "2021-07-15T14:57:37.804083Z",
     "iopub.status.idle": "2021-07-15T14:57:38.032161Z",
     "shell.execute_reply": "2021-07-15T14:57:38.030776Z",
     "shell.execute_reply.started": "2021-07-15T14:57:37.804432Z"
    }
   },
   "outputs": [
    {
     "data": {
      "text/plain": [
       "<AxesSubplot:>"
      ]
     },
     "execution_count": 28,
     "metadata": {},
     "output_type": "execute_result"
    },
    {
     "data": {
      "image/png": "[encoded data removed]",
      "text/plain": [
       "<Figure size 432x288 with 1 Axes>"
      ]
     },
     "metadata": {
      "needs_background": "light"
     },
     "output_type": "display_data"
    }
   ],
   "source": [
    "metrics[['accuracy','val_accuracy']].plot()"
   ]
  },
  {
   "cell_type": "code",
   "execution_count": 41,
   "metadata": {
    "execution": {
     "iopub.execute_input": "2021-07-15T15:10:35.640752Z",
     "iopub.status.busy": "2021-07-15T15:10:35.640324Z",
     "iopub.status.idle": "2021-07-15T15:10:35.645860Z",
     "shell.execute_reply": "2021-07-15T15:10:35.644562Z",
     "shell.execute_reply.started": "2021-07-15T15:10:35.640717Z"
    }
   },
   "outputs": [],
   "source": [
    "# Let's predict on few reviews\n",
    "neg_review = ['Rooms were old. Staff difficult to reach. Food bad. Loud room parties. Kid based place. No concierge room available. Pick another hotel. This is definitely on a low level with little interest in higher']\n",
    "\n",
    "# This is a negative review.Let's check if the model is able to predict it"
   ]
  },
  {
   "cell_type": "code",
   "execution_count": 42,
   "metadata": {
    "execution": {
     "iopub.execute_input": "2021-07-15T15:10:43.310602Z",
     "iopub.status.busy": "2021-07-15T15:10:43.310149Z",
     "iopub.status.idle": "2021-07-15T15:10:43.316141Z",
     "shell.execute_reply": "2021-07-15T15:10:43.315303Z",
     "shell.execute_reply.started": "2021-07-15T15:10:43.310566Z"
    }
   },
   "outputs": [],
   "source": [
    "# Let's tokenize it and do the pad_sequence to make it in right format acceptable by model\n",
    "neg_review_token = tokenizer.texts_to_sequences(neg_review)\n",
    "\n",
    "# padding\n",
    "neg_review_padded = pad_sequences(neg_review_token,maxlen=100,padding='post')"
   ]
  },
  {
   "cell_type": "code",
   "execution_count": 43,
   "metadata": {
    "execution": {
     "iopub.execute_input": "2021-07-15T15:15:47.658908Z",
     "iopub.status.busy": "2021-07-15T15:15:47.658425Z",
     "iopub.status.idle": "2021-07-15T15:15:47.734005Z",
     "shell.execute_reply": "2021-07-15T15:15:47.732319Z",
     "shell.execute_reply.started": "2021-07-15T15:15:47.658869Z"
    }
   },
   "outputs": [],
   "source": [
    "review_predict = (model.predict(neg_review_padded)>0.5).astype('int32')"
   ]
  },
  {
   "cell_type": "code",
   "execution_count": 44,
   "metadata": {
    "execution": {
     "iopub.execute_input": "2021-07-15T15:17:06.994756Z",
     "iopub.status.busy": "2021-07-15T15:17:06.994249Z",
     "iopub.status.idle": "2021-07-15T15:17:07.002099Z",
     "shell.execute_reply": "2021-07-15T15:17:07.000560Z",
     "shell.execute_reply.started": "2021-07-15T15:17:06.994717Z"
    }
   },
   "outputs": [
    {
     "name": "stdout",
     "output_type": "stream",
     "text": [
      "It's a negative review\n"
     ]
    }
   ],
   "source": [
    "# 1 is Positive review and 0 is negative review\n",
    "if review_predict[0] == 0:\n",
    "    print(\"It's a negative review\")\n",
    "else:\n",
    "    print(\"It's a positive review\")"
   ]
  },
  {
   "cell_type": "code",
   "execution_count": 46,
   "metadata": {
    "execution": {
     "iopub.execute_input": "2021-07-15T15:22:08.881902Z",
     "iopub.status.busy": "2021-07-15T15:22:08.881512Z",
     "iopub.status.idle": "2021-07-15T15:22:08.957370Z",
     "shell.execute_reply": "2021-07-15T15:22:08.956266Z",
     "shell.execute_reply.started": "2021-07-15T15:22:08.881871Z"
    }
   },
   "outputs": [
    {
     "name": "stdout",
     "output_type": "stream",
     "text": [
      "It's a positive review\n"
     ]
    }
   ],
   "source": [
    "# Let's try another one.This time we will take a positive review\n",
    "pos_review = [\"Very good sized room with decent facilities which had triple glazing - needed as facing the church bells! Some of the rooms can have a few short flights of stairs even after using the lift so you may need to check when booking that any mobility needs are met. Good buffet breakfast\"]\n",
    "# Tokenization\n",
    "pos_review = tokenizer.texts_to_sequences(pos_review)\n",
    "\n",
    "# padding\n",
    "pos_review = pad_sequences(pos_review,maxlen=100,padding='post')\n",
    "\n",
    "# prediction\n",
    "review_predict1 = (model.predict(pos_review)>0.5).astype('int')\n",
    "\n",
    "if review_predict1[0] == 0:\n",
    "    print(\"It's a negative review\")\n",
    "else:\n",
    "    print(\"It's a positive review\")"
   ]
  },
  {
   "cell_type": "code",
   "execution_count": 34,
   "metadata": {
    "execution": {
     "iopub.execute_input": "2021-07-15T15:24:02.326961Z",
     "iopub.status.busy": "2021-07-15T15:24:02.326541Z",
     "iopub.status.idle": "2021-07-15T15:24:08.608861Z",
     "shell.execute_reply": "2021-07-15T15:24:08.607563Z",
     "shell.execute_reply.started": "2021-07-15T15:24:02.326928Z"
    }
   },
   "outputs": [],
   "source": [
    "# Let's predict on X_test\n",
    "prediction = (model.predict(X_test)>0.5).astype('int32')"
   ]
  },
  {
   "cell_type": "code",
   "execution_count": 35,
   "metadata": {
    "execution": {
     "iopub.execute_input": "2021-07-15T15:24:35.644009Z",
     "iopub.status.busy": "2021-07-15T15:24:35.643634Z",
     "iopub.status.idle": "2021-07-15T15:24:35.648994Z",
     "shell.execute_reply": "2021-07-15T15:24:35.647579Z",
     "shell.execute_reply.started": "2021-07-15T15:24:35.643977Z"
    }
   },
   "outputs": [],
   "source": [
    "# Evaluation\n",
    "from sklearn.metrics import classification_report"
   ]
  },
  {
   "cell_type": "code",
   "execution_count": 36,
   "metadata": {
    "execution": {
     "iopub.execute_input": "2021-07-15T15:24:52.899209Z",
     "iopub.status.busy": "2021-07-15T15:24:52.898424Z",
     "iopub.status.idle": "2021-07-15T15:24:52.916245Z",
     "shell.execute_reply": "2021-07-15T15:24:52.914722Z",
     "shell.execute_reply.started": "2021-07-15T15:24:52.899167Z"
    }
   },
   "outputs": [
    {
     "name": "stdout",
     "output_type": "stream",
     "text": [
      "              precision    recall  f1-score   support\n",
      "\n",
      "           0       0.93      0.87      0.90       669\n",
      "           1       0.95      0.97      0.96      1785\n",
      "\n",
      "    accuracy                           0.95      2454\n",
      "   macro avg       0.94      0.92      0.93      2454\n",
      "weighted avg       0.94      0.95      0.94      2454\n",
      "\n"
     ]
    }
   ],
   "source": [
    "print(classification_report(y_test,prediction))"
   ]
  },
  {
   "cell_type": "markdown",
   "metadata": {},
   "source": [
    "# Model Accuracy on test data - 95%"
   ]
  },
  {
   "cell_type": "code",
   "execution_count": 47,
   "metadata": {},
   "outputs": [],
   "source": [
    "# Let's save the model\n",
    "model.save('review.h5')"
   ]
  },
  {
   "cell_type": "code",
   "execution_count": 48,
   "metadata": {},
   "outputs": [],
   "source": [
    "# Let's save the tokenizer\n",
    "import pickle"
   ]
  },
  {
   "cell_type": "code",
   "execution_count": 50,
   "metadata": {},
   "outputs": [],
   "source": [
    "pickle.dump(tokenizer,open('tokenizer.pkl','wb'))"
   ]
  },
  {
   "cell_type": "markdown",
   "metadata": {},
   "source": [
    "# Thank you"
   ]
  },
  {
   "cell_type": "code",
   "execution_count": null,
   "metadata": {},
   "outputs": [],
   "source": []
  }
 ],
 "metadata": {
  "kernelspec": {
   "display_name": "Python 3",
   "language": "python",
   "name": "python3"
  },
  "language_info": {
   "codemirror_mode": {
    "name": "ipython",
    "version": 3
   },
   "file_extension": ".py",
   "mimetype": "text/x-python",
   "name": "python",
   "nbconvert_exporter": "python",
   "pygments_lexer": "ipython3",
   "version": "3.8.5"
  }
 },
 "nbformat": 4,
 "nbformat_minor": 4
}
